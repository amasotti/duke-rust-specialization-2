{
 "cells": [
  {
   "cell_type": "markdown",
   "id": "ea0c3675-2aeb-4b4e-92d3-8faf48e1a692",
   "metadata": {},
   "source": [
    "# My first Rust Notebook"
   ]
  },
  {
   "cell_type": "markdown",
   "id": "f508c8a8-1d1b-4a52-aec4-90323f82ef53",
   "metadata": {},
   "source": [
    "Test writing notebook code with Rust, using the _evcxr_ crate and the `rust` conda env with Python 3.10 installed"
   ]
  },
  {
   "cell_type": "code",
   "execution_count": 13,
   "id": "49206736-b4fa-4cb8-a406-d408fb594900",
   "metadata": {},
   "outputs": [
    {
     "name": "stdout",
     "output_type": "stream",
     "text": [
      "hallo World\n"
     ]
    },
    {
     "data": {
      "text/plain": [
       "3"
      ]
     },
     "execution_count": 13,
     "metadata": {},
     "output_type": "execute_result"
    }
   ],
   "source": [
    "// Print test\n",
    "let s = \"hallo World\";\n",
    "println!(\"{}\",s);\n",
    "\n",
    "// Return type test\n",
    "let p = 3;\n",
    "p"
   ]
  },
  {
   "cell_type": "code",
   "execution_count": null,
   "id": "ebd8084f-6339-434a-bd8d-d2d4ebcf1d7c",
   "metadata": {},
   "outputs": [],
   "source": []
  }
 ],
 "metadata": {
  "kernelspec": {
   "display_name": "Rust",
   "language": "rust",
   "name": "rust"
  },
  "language_info": {
   "codemirror_mode": "rust",
   "file_extension": ".rs",
   "mimetype": "text/rust",
   "name": "Rust",
   "pygment_lexer": "rust",
   "version": ""
  }
 },
 "nbformat": 4,
 "nbformat_minor": 5
}
